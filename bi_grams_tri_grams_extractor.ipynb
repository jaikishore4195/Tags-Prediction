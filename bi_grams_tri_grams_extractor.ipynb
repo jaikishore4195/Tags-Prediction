{
 "cells": [
  {
   "cell_type": "code",
   "execution_count": 2,
   "metadata": {},
   "outputs": [
    {
     "name": "stderr",
     "output_type": "stream",
     "text": [
      "Using TensorFlow backend.\n"
     ]
    }
   ],
   "source": [
    "import warnings\n",
    "warnings.filterwarnings('ignore')\n",
    "import pickle\n",
    "import numpy as np\n",
    "import pandas as pd\n",
    "from sklearn.model_selection import train_test_split\n",
    "from gensim.models import FastText\n",
    "import keras\n",
    "import keras\n",
    "from copy import deepcopy\n",
    "import keras_contrib\n",
    "from sklearn.metrics import f1_score,accuracy_score\n",
    "from keras.models import load_model\n",
    "from gensim.models import Word2Vec\n",
    "import itertools\n",
    "from more_itertools import locate\n",
    "from keras.models import load_model\n",
    "from sklearn.preprocessing import LabelEncoder\n",
    "from sklearn.utils.class_weight import compute_sample_weight"
   ]
  },
  {
   "cell_type": "code",
   "execution_count": 2,
   "metadata": {},
   "outputs": [],
   "source": [
    "with open('train_paras.txt','r') as f:\n",
    "    final=f.readlines()\n",
    "    \n",
    "for i in range(0,len(final)):\n",
    "    final[i]=final[i][2:].split(\"', '\")\n",
    "    final[i][-1]=final[i][-1].replace(\"']\\n\",'')"
   ]
  },
  {
   "cell_type": "code",
   "execution_count": 3,
   "metadata": {},
   "outputs": [],
   "source": [
    "final = final[500000:]"
   ]
  },
  {
   "cell_type": "code",
   "execution_count": 3,
   "metadata": {},
   "outputs": [],
   "source": [
    "with open(\"tags.pkl\", \"rb\") as fp:\n",
    "    tags = pickle.load(fp)"
   ]
  },
  {
   "cell_type": "code",
   "execution_count": 5,
   "metadata": {},
   "outputs": [],
   "source": [
    "tags = tags[500000:]"
   ]
  },
  {
   "cell_type": "code",
   "execution_count": 6,
   "metadata": {},
   "outputs": [],
   "source": [
    "for i in range(0,len(tags)):\n",
    "    tag=[]\n",
    "    for j in range(0,len(tags[i])):\n",
    "        x=tags[i][j].split('-')\n",
    "        tag+=x\n",
    "    tags[i]=tag"
   ]
  },
  {
   "cell_type": "code",
   "execution_count": 7,
   "metadata": {},
   "outputs": [],
   "source": [
    "target = []\n",
    "for i in range(0,len(final)):\n",
    "    cvb = np.zeros(len(final[i]))\n",
    "    for k in range(len(tags[i])):\n",
    "        cvb[list(locate(final[i], lambda x: x == tags[i][k]))] =1\n",
    "    target.append(list(cvb))"
   ]
  },
  {
   "cell_type": "code",
   "execution_count": 4,
   "metadata": {},
   "outputs": [],
   "source": [
    "fasttext_model = FastText.load('fasttext_big_new_test.model')\n",
    "w2v_model=Word2Vec.load('word2vec_big_new_test.model')"
   ]
  },
  {
   "cell_type": "code",
   "execution_count": 5,
   "metadata": {},
   "outputs": [],
   "source": [
    "def transformation(x):\n",
    "    for i in range(len(x)):\n",
    "        x[i]=x[i][0:300]\n",
    "        leng=300-len(x[i])\n",
    "        x[i]=x[i]+leng*['pad']\n",
    "        \n",
    "    return x"
   ]
  },
  {
   "cell_type": "code",
   "execution_count": 6,
   "metadata": {},
   "outputs": [],
   "source": [
    "def embed_fasttext(x):\n",
    "    for i in range(len(x)):\n",
    "        for j in range(300):\n",
    "                try:\n",
    "                    w2v = w2v_model.wv[x[i][j]]\n",
    "                except:\n",
    "                    w2v = np.zeros([150])\n",
    "                try:\n",
    "                    ft = fasttext_model.wv[x[i][j]]\n",
    "                except:\n",
    "                    ft = np.zeros([150])\n",
    "\n",
    "                x[i][j] = np.concatenate([w2v,ft])\n",
    "\n",
    "    \n",
    "    return np.array(x)"
   ]
  },
  {
   "cell_type": "code",
   "execution_count": null,
   "metadata": {},
   "outputs": [],
   "source": []
  },
  {
   "cell_type": "code",
   "execution_count": 7,
   "metadata": {},
   "outputs": [],
   "source": [
    "input_text = keras.layers.Input(shape=(300,300))\n",
    "lstm_1 = keras.layers.Bidirectional(keras.layers.CuDNNLSTM(units=128, return_sequences=True))(input_text)\n",
    "drop = keras.layers.Dropout(0.3)(lstm_1)\n",
    "dense = keras.layers.TimeDistributed(keras.layers.Dense(70, activation=\"relu\"))(drop)\n",
    "out=keras.layers.Dense(1,activation='sigmoid')(dense)\n",
    "\n",
    "model = keras.Model(inputs = input_text,outputs=out)"
   ]
  },
  {
   "cell_type": "code",
   "execution_count": 8,
   "metadata": {},
   "outputs": [
    {
     "name": "stdout",
     "output_type": "stream",
     "text": [
      "_________________________________________________________________\n",
      "Layer (type)                 Output Shape              Param #   \n",
      "=================================================================\n",
      "input_1 (InputLayer)         (None, 300, 300)          0         \n",
      "_________________________________________________________________\n",
      "bidirectional_1 (Bidirection (None, 300, 256)          440320    \n",
      "_________________________________________________________________\n",
      "dropout_1 (Dropout)          (None, 300, 256)          0         \n",
      "_________________________________________________________________\n",
      "time_distributed_1 (TimeDist (None, 300, 70)           17990     \n",
      "_________________________________________________________________\n",
      "dense_2 (Dense)              (None, 300, 1)            71        \n",
      "=================================================================\n",
      "Total params: 458,381\n",
      "Trainable params: 458,381\n",
      "Non-trainable params: 0\n",
      "_________________________________________________________________\n"
     ]
    }
   ],
   "source": [
    "model.summary()"
   ]
  },
  {
   "cell_type": "code",
   "execution_count": 9,
   "metadata": {
    "scrolled": true
   },
   "outputs": [],
   "source": [
    "model.compile(optimizer=\"adam\", loss=\"binary_crossentropy\",sample_weight_mode='temporal')"
   ]
  },
  {
   "cell_type": "code",
   "execution_count": 10,
   "metadata": {},
   "outputs": [],
   "source": [
    "model = keras.models.load_model('joint_tags_model.h5')"
   ]
  },
  {
   "cell_type": "code",
   "execution_count": 11,
   "metadata": {},
   "outputs": [],
   "source": [
    "def elmoembedding(x):\n",
    "    x = transformation(x)\n",
    "    y = embed_fasttext(deepcopy(x))\n",
    "    return y"
   ]
  },
  {
   "cell_type": "code",
   "execution_count": 12,
   "metadata": {},
   "outputs": [],
   "source": [
    "def target_processing(x):\n",
    "    for i in range(len(x)):\n",
    "        x[i] = x[i][0:300]\n",
    "        x[i] = x[i] + [0.0] * (300 - len(x[i]))\n",
    "    return np.array(x).reshape([len(x),300,1])"
   ]
  },
  {
   "cell_type": "code",
   "execution_count": 17,
   "metadata": {
    "collapsed": true
   },
   "outputs": [
    {
     "name": "stdout",
     "output_type": "stream",
     "text": [
      "0   32000 0.06090642\n",
      "0   64000 0.06387937\n",
      "0   96000 0.055949654\n",
      "0   128000 0.07063086\n",
      "0   160000 0.0649589\n",
      "0   192000 0.07127179\n",
      "0   224000 0.0500456\n",
      "0   256000 0.06429357\n",
      "1   32000 0.061172027\n",
      "1   64000 0.06385025\n",
      "1   96000 0.05655585\n",
      "1   128000 0.071429685\n",
      "1   160000 0.059426174\n",
      "1   192000 0.06678471\n",
      "1   224000 0.050426688\n",
      "1   256000 0.061554484\n",
      "2   32000 0.060620848\n",
      "2   64000 0.062835164\n",
      "2   96000 0.057568587\n",
      "2   128000 0.06546808\n",
      "2   160000 0.059005164\n",
      "2   192000 0.067020506\n",
      "2   224000 0.048070457\n",
      "2   256000 0.061298884\n",
      "3   32000 0.057257697\n",
      "3   64000 0.060488105\n",
      "3   96000 0.05489551\n",
      "3   128000 0.065703705\n",
      "3   160000 0.056822218\n",
      "3   192000 0.0637051\n",
      "3   224000 0.049050763\n",
      "3   256000 0.062495105\n",
      "4   32000 0.057864152\n",
      "4   64000 0.061800238\n",
      "4   96000 0.053435884\n",
      "4   128000 0.0670122\n",
      "4   160000 0.05807192\n",
      "4   192000 0.06479524\n",
      "4   224000 0.048376452\n",
      "4   256000 0.059959423\n",
      "5   32000 0.057471544\n",
      "5   64000 0.060350966\n",
      "5   96000 0.054665845\n",
      "5   128000 0.065186426\n",
      "5   160000 0.058048733\n",
      "5   192000 0.06380848\n",
      "5   224000 0.047960475\n",
      "5   256000 0.05840711\n",
      "6   32000 0.056241233\n",
      "6   64000 0.058816615\n",
      "6   96000 0.053744998\n",
      "6   128000 0.06118852\n",
      "6   160000 0.056881096\n",
      "6   192000 0.06357697\n",
      "6   224000 0.04598922\n",
      "6   256000 0.062358342\n"
     ]
    }
   ],
   "source": [
    "epochs = 0\n",
    "while epochs < 7:    \n",
    "    i = 0\n",
    "    while i < len(final):\n",
    "        fasttext = elmoembedding(deepcopy(final[i:i+64]))\n",
    "        y_pass = target_processing(deepcopy(target[i:i+64]))\n",
    "        \n",
    "        i = i + 64\n",
    "        sample_we = np.zeros([len(y_pass),300])\n",
    "        for d in range(len(y_pass)):\n",
    "            for v in range(len(y_pass[d])):\n",
    "                if y_pass[d][v][0] == 0.0:\n",
    "                    sample_we[d][v] = 1.0\n",
    "                else:\n",
    "                    sample_we[d][v] = 3.0\n",
    "        \n",
    "        a = model.train_on_batch(fasttext,y_pass,sample_weight=sample_we)\n",
    "        \n",
    "        if i % 32000 == 0:\n",
    "            print(epochs,' ',i,a)\n",
    "        \n",
    "    epochs += 1"
   ]
  },
  {
   "cell_type": "code",
   "execution_count": 18,
   "metadata": {},
   "outputs": [
    {
     "data": {
      "text/plain": [
       "100"
      ]
     },
     "execution_count": 18,
     "metadata": {},
     "output_type": "execute_result"
    }
   ],
   "source": [
    "import gc\n",
    "gc.collect()"
   ]
  },
  {
   "cell_type": "code",
   "execution_count": 21,
   "metadata": {},
   "outputs": [],
   "source": [
    "model.save('joint_tags_model.h5')"
   ]
  },
  {
   "cell_type": "code",
   "execution_count": 13,
   "metadata": {},
   "outputs": [],
   "source": [
    "from collections import Counter"
   ]
  },
  {
   "cell_type": "code",
   "execution_count": 40,
   "metadata": {},
   "outputs": [],
   "source": [
    "vocab = list(itertools.chain(*tags))"
   ]
  },
  {
   "cell_type": "code",
   "execution_count": 41,
   "metadata": {},
   "outputs": [],
   "source": [
    "c = Counter(vocab)"
   ]
  },
  {
   "cell_type": "code",
   "execution_count": 42,
   "metadata": {},
   "outputs": [],
   "source": [
    "vocab = c.most_common()"
   ]
  },
  {
   "cell_type": "code",
   "execution_count": 43,
   "metadata": {},
   "outputs": [],
   "source": [
    "vocab = [i[0] for i in vocab]"
   ]
  },
  {
   "cell_type": "code",
   "execution_count": 44,
   "metadata": {},
   "outputs": [],
   "source": [
    "with open(\"test_paras.pkl\", \"rb\") as fp:\n",
    "    data = pickle.load(fp)"
   ]
  },
  {
   "cell_type": "code",
   "execution_count": 45,
   "metadata": {
    "collapsed": true
   },
   "outputs": [
    {
     "name": "stdout",
     "output_type": "stream",
     "text": [
      "1280\n",
      "2560\n",
      "3840\n",
      "5120\n",
      "6400\n",
      "7680\n",
      "8960\n",
      "10240\n",
      "11520\n",
      "12800\n",
      "14080\n",
      "15360\n",
      "16640\n",
      "17920\n",
      "19200\n",
      "20480\n",
      "21760\n",
      "23040\n",
      "24320\n",
      "25600\n",
      "26880\n",
      "28160\n",
      "29440\n",
      "30720\n",
      "32000\n",
      "33280\n",
      "34560\n",
      "35840\n",
      "37120\n",
      "38400\n",
      "39680\n",
      "40960\n",
      "42240\n",
      "43520\n",
      "44800\n",
      "46080\n",
      "47360\n",
      "48640\n",
      "49920\n",
      "51200\n",
      "52480\n",
      "53760\n",
      "55040\n",
      "56320\n",
      "57600\n",
      "58880\n",
      "60160\n",
      "61440\n",
      "62720\n",
      "64000\n",
      "65280\n",
      "66560\n",
      "67840\n",
      "69120\n",
      "70400\n",
      "71680\n",
      "72960\n",
      "74240\n",
      "75520\n",
      "76800\n",
      "78080\n",
      "79360\n",
      "80640\n",
      "81920\n",
      "83200\n",
      "84480\n",
      "85760\n",
      "87040\n",
      "88320\n",
      "89600\n",
      "90880\n",
      "92160\n",
      "93440\n",
      "94720\n",
      "96000\n",
      "97280\n",
      "98560\n",
      "99840\n",
      "101120\n",
      "102400\n",
      "103680\n",
      "104960\n",
      "106240\n",
      "107520\n",
      "108800\n",
      "110080\n",
      "111360\n",
      "112640\n",
      "113920\n",
      "115200\n",
      "116480\n",
      "117760\n",
      "119040\n",
      "120320\n",
      "121600\n",
      "122880\n",
      "124160\n",
      "125440\n",
      "126720\n",
      "128000\n",
      "129280\n",
      "130560\n",
      "131840\n",
      "133120\n",
      "134400\n",
      "135680\n",
      "136960\n",
      "138240\n",
      "139520\n",
      "140800\n",
      "142080\n",
      "143360\n",
      "144640\n",
      "145920\n",
      "147200\n",
      "148480\n",
      "149760\n",
      "151040\n",
      "152320\n",
      "153600\n",
      "154880\n",
      "156160\n",
      "157440\n",
      "158720\n",
      "160000\n",
      "161280\n",
      "162560\n",
      "163840\n",
      "165120\n",
      "166400\n",
      "167680\n",
      "168960\n",
      "170240\n",
      "171520\n",
      "172800\n",
      "174080\n",
      "175360\n",
      "176640\n",
      "177920\n",
      "179200\n",
      "180480\n",
      "181760\n",
      "183040\n",
      "184320\n",
      "185600\n",
      "186880\n",
      "188160\n",
      "189440\n",
      "190720\n",
      "192000\n",
      "193280\n"
     ]
    }
   ],
   "source": [
    "rty = np.zeros([1,300,1])\n",
    "i = 0\n",
    "while i < len(data):\n",
    "    rty = np.append(rty,model.predict(elmoembedding(data[i:i+128])),axis= 0)\n",
    "    i = i + 128\n",
    "    if i % 1280 == 0:\n",
    "        print(i)"
   ]
  },
  {
   "cell_type": "code",
   "execution_count": 46,
   "metadata": {},
   "outputs": [],
   "source": [
    "rty = rty[1:]"
   ]
  },
  {
   "cell_type": "code",
   "execution_count": 47,
   "metadata": {},
   "outputs": [
    {
     "data": {
      "text/plain": [
       "(194323, 300, 1)"
      ]
     },
     "execution_count": 47,
     "metadata": {},
     "output_type": "execute_result"
    }
   ],
   "source": [
    "rty.shape"
   ]
  },
  {
   "cell_type": "code",
   "execution_count": 48,
   "metadata": {},
   "outputs": [],
   "source": [
    "rty = np.array(rty).reshape([len(data),300])"
   ]
  },
  {
   "cell_type": "code",
   "execution_count": 49,
   "metadata": {},
   "outputs": [],
   "source": [
    "pred = []\n",
    "for i in range(0,len(rty)):\n",
    "    pred.append(list(set(np.array(data[i])[np.where(rty[i] > 0.4)[0]])))"
   ]
  },
  {
   "cell_type": "code",
   "execution_count": 50,
   "metadata": {},
   "outputs": [
    {
     "data": {
      "text/plain": [
       "[['ftl'],\n",
       " ['bash', 'phpunit', 'pear', 'lion', 'mountain', 'pecl'],\n",
       " ['menu', 'javascript', 'ajax', 'drop'],\n",
       " [],\n",
       " ['mysql', 'php', 'access', 'locking', 'database', 'phpmyadmin'],\n",
       " [],\n",
       " ['spreadsheet'],\n",
       " ['vsts', 'mediaelement', 'video', 'silverlight', '2008'],\n",
       " ['mobile', 'css', 'jquery', 'popup', 'scroll'],\n",
       " ['studio', 'maps', 'android', 'activity', 'google'],\n",
       " ['mobile', 'objectanimator', 'animation', 'android', 'rotation', 'google'],\n",
       " ['simplemodal', 'css', 'jquery'],\n",
       " ['swing', 'java'],\n",
       " ['animated', 'motion', 'background'],\n",
       " ['hashmap', 'parsing', 'java', 'split', 'string'],\n",
       " ['unix', 'io', 'leaks', 'select', 'perl', 'parallel'],\n",
       " ['html', 'charts', 'mysql', 'php', 'jquery', 'svg', 'bar', 'json'],\n",
       " ['spatial', 'graph', 'algorithm', 'scipy', 'knn', 'numpy'],\n",
       " ['prolog', 'algorithm'],\n",
       " ['facebook', 'database', 'iframe'],\n",
       " ['wpf', 'studio', 'xaml', '2015', 'windows', '10'],\n",
       " ['html',\n",
       "  'grid',\n",
       "  'css',\n",
       "  'java',\n",
       "  'jquery',\n",
       "  'layout',\n",
       "  'menu',\n",
       "  'gridlayout',\n",
       "  'javascript',\n",
       "  'fluid'],\n",
       " ['split', 'perl'],\n",
       " ['listview', 'django', 'views', 'models'],\n",
       " ['indentation', 'python', 'syntax', 'string', 'regex'],\n",
       " ['file', 'apache', 'java', 'xpath'],\n",
       " ['spring', 'batch'],\n",
       " ['staggeredgridview',\n",
       "  'mysql',\n",
       "  'php',\n",
       "  'progressdialog',\n",
       "  'android',\n",
       "  'gridview',\n",
       "  'json'],\n",
       " ['gear', 'openshift'],\n",
       " ['arcgis', 'tiff', 'raster', 'image', 'pci'],\n",
       " ['python', 'keras'],\n",
       " ['data', 'boot', 'java', 'spring', 'mongodb'],\n",
       " ['html', 'protractor', 'css', 'xpath'],\n",
       " ['chrome', 'mozilla', 'youtube'],\n",
       " ['html', 'php', 'jquery', 'conditional', 'javascript'],\n",
       " ['java', 'mysql', 'hibernate'],\n",
       " ['repository', 'svn'],\n",
       " ['shiny', 'reactive'],\n",
       " ['sqlite', 'database', 'cursor'],\n",
       " ['laravel', 'php', 'authentication'],\n",
       " ['objective', 'memory', 'garbage'],\n",
       " ['go', 'typedef', 'overhead', 'struct', 'vector', 'performance', 'alias'],\n",
       " ['amazon',\n",
       "  'beanstalk',\n",
       "  'elastic',\n",
       "  'git',\n",
       "  'aws',\n",
       "  'python',\n",
       "  'push',\n",
       "  'boto',\n",
       "  'django'],\n",
       " ['list', 'haskell', 'string'],\n",
       " ['data', 'angular2', 'angular'],\n",
       " ['hal', 'freertos', 'rtc', 'lcd'],\n",
       " ['dataframe', 'json'],\n",
       " ['webdriver', 'forms', 'watir', 'phantomjs', 'selenium', 'ruby'],\n",
       " ['url'],\n",
       " ['ionic', 'ng', 'html', 'directive'],\n",
       " ['loops', 'promise', 'deferred', 'jquery'],\n",
       " ['2008', 'server', 'studio', 'sql'],\n",
       " ['xaml', 'phone', 'controls', 'itemscontrol', 'windows', 'directive'],\n",
       " ['layout', 'menu', 'android', 'drop', 'spinner'],\n",
       " ['static', 'global', 'memory', 'class', 'variables'],\n",
       " ['javascript', 'image', 'video', 'wordpress'],\n",
       " ['image', 'jquery', 'canvas', 'html5', 'tags'],\n",
       " ['swift', 'uibarbuttonitem', 'ui', 'uisearchcontroller'],\n",
       " ['html', 'css', 'jquery', 'menu', 'ui', 'hover'],\n",
       " ['chrome'],\n",
       " ['dll', 'assembly', 'activator'],\n",
       " ['ocunit'],\n",
       " ['redex', 'continuation', 'conversion', 'style', 'scheme', 'cps'],\n",
       " ['uitextfield', 'uibutton', 'uisearchbar'],\n",
       " ['stream', 'apache', 'storm', 'kafka'],\n",
       " ['search', 'algorithm'],\n",
       " ['swift', 'reference', 'xcode'],\n",
       " ['maxima'],\n",
       " ['benchmarking', 'nginx', 'wsgi', 'django', 'uwsgi'],\n",
       " ['shell', 'bundler', 'gem', 'ruby'],\n",
       " ['php', 'javascript', 'validation', 'jquery'],\n",
       " ['datatable', 'datatables', 'jquery'],\n",
       " ['fsockopen'],\n",
       " ['converter', 'java', 'hibernate', 'lazy', 'spring'],\n",
       " ['while', 'java', 'loop'],\n",
       " ['charts', 'highcharts', 'json'],\n",
       " ['videoview',\n",
       "  'dialog',\n",
       "  'youtube',\n",
       "  'progress',\n",
       "  'video',\n",
       "  'android',\n",
       "  'bar',\n",
       "  'streaming'],\n",
       " ['foreach', 'php', 'xpath'],\n",
       " ['ui'],\n",
       " ['javascript'],\n",
       " ['html', 'java'],\n",
       " ['knockout', 'binding'],\n",
       " ['resources', 'spring', 'dhtmlx', 'configuration', 'jsp'],\n",
       " ['animated', 'gif', 'video', 'avi', 'ffmpeg'],\n",
       " ['exs', 'mix', 'elixir', 'beam'],\n",
       " ['java'],\n",
       " ['unix', 'git', 'python', 'github', 'cygwin', 'ruby'],\n",
       " ['java', 'xpath', 'soap'],\n",
       " ['cllocationmanager', 'cllocation', 'ios'],\n",
       " ['invalidation', 'certificate', 'crl'],\n",
       " ['maps', 'google', 'scope', 'angularjs'],\n",
       " ['android', 'rfid', 'acr122u', 'nfc', 'digital'],\n",
       " [],\n",
       " ['python', 'lxml', 'xpath'],\n",
       " ['javascript', 'laravel'],\n",
       " ['classnotfoundexception', 'java', 'android', 'directionalviewpager', 'xml'],\n",
       " ['database', 'server', 'sorting', '2008', 'sql'],\n",
       " ['dataframe', 'list', 'anova'],\n",
       " ['visual', 'studio', '2013', 'datasource', 'bindingsource'],\n",
       " ['file', 'server', 'sql']]"
      ]
     },
     "execution_count": 50,
     "metadata": {},
     "output_type": "execute_result"
    }
   ],
   "source": [
    "pred[0:100]"
   ]
  },
  {
   "cell_type": "code",
   "execution_count": 51,
   "metadata": {},
   "outputs": [],
   "source": [
    "bi_gram = [i for i in vocab if len(i.split('-')) == 2]"
   ]
  },
  {
   "cell_type": "code",
   "execution_count": 52,
   "metadata": {},
   "outputs": [],
   "source": [
    "vocab = list(itertools.chain(*tags))\n",
    "c = Counter(vocab)\n",
    "vocab = c.most_common()\n",
    "vocab = [i[0] for i in vocab]"
   ]
  },
  {
   "cell_type": "code",
   "execution_count": 53,
   "metadata": {},
   "outputs": [],
   "source": [
    "tri_gram = [i for i in vocab if len(i.split('-')) == 3]"
   ]
  },
  {
   "cell_type": "code",
   "execution_count": 54,
   "metadata": {},
   "outputs": [],
   "source": [
    "import itertools"
   ]
  },
  {
   "cell_type": "code",
   "execution_count": 55,
   "metadata": {},
   "outputs": [],
   "source": [
    "new_pred_bigram = []\n",
    "for k in range(0,len(pred)):\n",
    "    temp = []\n",
    "    x = [i[0]+'-'+i[1] for i in list(itertools.permutations(pred[k], 2))]\n",
    "    for w in range(len(x)):\n",
    "        if x[w] in bi_gram:\n",
    "            temp.append(x[w])\n",
    "    new_pred_bigram.append(temp)"
   ]
  },
  {
   "cell_type": "code",
   "execution_count": 56,
   "metadata": {},
   "outputs": [],
   "source": [
    "new_pred_trigram = []\n",
    "for k in range(0,len(pred)):\n",
    "    temp = []\n",
    "    x = [i[0]+'-'+i[1]+'-'+i[2] for i in list(itertools.permutations(pred[k], 3))]\n",
    "    for w in range(len(x)):\n",
    "        if x[w] in tri_gram:\n",
    "            temp.append(x[w])\n",
    "    new_pred_trigram.append(temp)"
   ]
  },
  {
   "cell_type": "code",
   "execution_count": 57,
   "metadata": {},
   "outputs": [],
   "source": [
    "for i in range(len(new_pred_bigram)):\n",
    "    temp = len(new_pred_bigram[i])\n",
    "    j = 0\n",
    "    if len(new_pred_bigram[i]) == 0 or len(new_pred_trigram[i]) == 0:\n",
    "        continue\n",
    "    while j < temp:\n",
    "        temp1 = []\n",
    "        for k in range(len(new_pred_trigram[i])):\n",
    "            if set(new_pred_bigram[i][j].split('-')).issubset(set(new_pred_trigram[i][k].split('-'))):\n",
    "                temp1.append(j)\n",
    "        \n",
    "        j = j +1\n",
    "        \n",
    "    temp1 = list(set(temp1))\n",
    "    for index in sorted(temp1, reverse=True):\n",
    "        del new_pred_bigram[i][index]"
   ]
  },
  {
   "cell_type": "code",
   "execution_count": 58,
   "metadata": {},
   "outputs": [],
   "source": [
    "for i in range(len(new_pred_bigram)):\n",
    "    new_pred_bigram[i] = new_pred_bigram[i] + new_pred_trigram[i]"
   ]
  },
  {
   "cell_type": "code",
   "execution_count": 59,
   "metadata": {},
   "outputs": [],
   "source": [
    "with open('parrot.pkl', 'wb') as f:\n",
    "    pickle.dump(new_pred_bigram, f)"
   ]
  },
  {
   "cell_type": "code",
   "execution_count": 60,
   "metadata": {},
   "outputs": [
    {
     "data": {
      "text/plain": [
       "[[],\n",
       " [],\n",
       " [],\n",
       " [],\n",
       " ['database-locking'],\n",
       " [],\n",
       " [],\n",
       " [],\n",
       " ['jquery-mobile-popup'],\n",
       " ['android-studio', 'android-maps', 'android-activity', 'google-maps'],\n",
       " ['android-animation'],\n",
       " [],\n",
       " [],\n",
       " [],\n",
       " ['string-parsing', 'string-split'],\n",
       " ['perl-select'],\n",
       " ['mysql-json', 'jquery-svg'],\n",
       " ['graph-algorithm'],\n",
       " [],\n",
       " ['facebook-iframe'],\n",
       " ['windows-10'],\n",
       " ['grid-layout', 'css-grid', 'jquery-layout', 'fluid-layout'],\n",
       " [],\n",
       " ['django-views', 'django-models'],\n",
       " [],\n",
       " [],\n",
       " ['spring-batch'],\n",
       " ['mysql-json', 'android-gridview', 'android-json'],\n",
       " [],\n",
       " [],\n",
       " [],\n",
       " ['spring-data',\n",
       "  'spring-boot',\n",
       "  'spring-mongodb',\n",
       "  'mongodb-java',\n",
       "  'spring-data-mongodb'],\n",
       " [],\n",
       " [],\n",
       " [],\n",
       " [],\n",
       " ['svn-repository'],\n",
       " [],\n",
       " ['database-cursor'],\n",
       " [],\n",
       " [],\n",
       " [],\n",
       " ['elastic-beanstalk', 'git-push', 'amazon-elastic-beanstalk'],\n",
       " [],\n",
       " [],\n",
       " [],\n",
       " [],\n",
       " ['watir-webdriver', 'selenium-webdriver', 'ruby-watir'],\n",
       " [],\n",
       " [],\n",
       " ['jquery-deferred'],\n",
       " ['sql-server-2008'],\n",
       " ['windows-phone', 'windows-controls'],\n",
       " ['android-layout', 'android-menu', 'android-spinner'],\n",
       " ['static-class', 'static-variables', 'global-variables', 'class-variables'],\n",
       " [],\n",
       " ['html5-canvas'],\n",
       " [],\n",
       " ['jquery-ui', 'jquery-hover', 'jquery-ui-menu'],\n",
       " [],\n",
       " [],\n",
       " [],\n",
       " [],\n",
       " [],\n",
       " ['apache-storm', 'apache-kafka'],\n",
       " [],\n",
       " [],\n",
       " [],\n",
       " ['django-wsgi'],\n",
       " ['gem-bundler'],\n",
       " [],\n",
       " ['jquery-datatables'],\n",
       " [],\n",
       " [],\n",
       " ['while-loop'],\n",
       " [],\n",
       " ['progress-bar', 'video-streaming', 'android-videoview', 'android-dialog'],\n",
       " [],\n",
       " [],\n",
       " [],\n",
       " [],\n",
       " [],\n",
       " [],\n",
       " ['animated-gif'],\n",
       " [],\n",
       " [],\n",
       " [],\n",
       " [],\n",
       " [],\n",
       " [],\n",
       " ['google-maps', 'angularjs-scope'],\n",
       " [],\n",
       " [],\n",
       " [],\n",
       " [],\n",
       " ['android-xml'],\n",
       " ['database-server', 'sql-server-2008'],\n",
       " [],\n",
       " ['visual-studio-2013'],\n",
       " ['sql-server']]"
      ]
     },
     "execution_count": 60,
     "metadata": {},
     "output_type": "execute_result"
    }
   ],
   "source": [
    "new_pred_bigram[0:100]"
   ]
  },
  {
   "cell_type": "code",
   "execution_count": null,
   "metadata": {},
   "outputs": [],
   "source": []
  }
 ],
 "metadata": {
  "kernelspec": {
   "display_name": "Python 3",
   "language": "python",
   "name": "python3"
  },
  "language_info": {
   "codemirror_mode": {
    "name": "ipython",
    "version": 3
   },
   "file_extension": ".py",
   "mimetype": "text/x-python",
   "name": "python",
   "nbconvert_exporter": "python",
   "pygments_lexer": "ipython3",
   "version": "3.6.5"
  }
 },
 "nbformat": 4,
 "nbformat_minor": 2
}
